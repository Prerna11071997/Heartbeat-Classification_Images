{
 "cells": [
  {
   "cell_type": "code",
   "execution_count": 3,
   "metadata": {
    "scrolled": true
   },
   "outputs": [
    {
     "name": "stderr",
     "output_type": "stream",
     "text": [
      "Using TensorFlow backend.\n"
     ]
    }
   ],
   "source": [
    "import hbutils as hb\n"
   ]
  },
  {
   "cell_type": "code",
   "execution_count": 4,
   "metadata": {},
   "outputs": [],
   "source": [
    "\n",
    "hb.unzip_data('data/set_b.zip', 'data/wavfiles')\n",
    "hb.convert_wavfiles_to_spectrograms('data/wavfiles', 'data/pngfiles', trim=2)"
   ]
  },
  {
   "cell_type": "code",
   "execution_count": 5,
   "metadata": {},
   "outputs": [
    {
     "data": {
      "text/html": [
       "<div>\n",
       "<style scoped>\n",
       "    .dataframe tbody tr th:only-of-type {\n",
       "        vertical-align: middle;\n",
       "    }\n",
       "\n",
       "    .dataframe tbody tr th {\n",
       "        vertical-align: top;\n",
       "    }\n",
       "\n",
       "    .dataframe thead th {\n",
       "        text-align: right;\n",
       "    }\n",
       "</style>\n",
       "<table border=\"1\" class=\"dataframe\">\n",
       "  <thead>\n",
       "    <tr style=\"text-align: right;\">\n",
       "      <th></th>\n",
       "      <th>dataset</th>\n",
       "      <th>fname</th>\n",
       "      <th>label</th>\n",
       "      <th>sublabel</th>\n",
       "      <th>iname</th>\n",
       "    </tr>\n",
       "  </thead>\n",
       "  <tbody>\n",
       "    <tr>\n",
       "      <th>0</th>\n",
       "      <td>b</td>\n",
       "      <td>data\\wavfiles/extrastole__127_1306764300147_C2...</td>\n",
       "      <td>extrastole</td>\n",
       "      <td>NaN</td>\n",
       "      <td>data\\pngfiles/extrastole__127_1306764300147_C2...</td>\n",
       "    </tr>\n",
       "    <tr>\n",
       "      <th>1</th>\n",
       "      <td>b</td>\n",
       "      <td>data\\wavfiles/extrastole__128_1306344005749_A.wav</td>\n",
       "      <td>extrastole</td>\n",
       "      <td>NaN</td>\n",
       "      <td>data\\pngfiles/extrastole__128_1306344005749_A.png</td>\n",
       "    </tr>\n",
       "    <tr>\n",
       "      <th>2</th>\n",
       "      <td>b</td>\n",
       "      <td>data\\wavfiles/extrastole__130_1306347376079_D.wav</td>\n",
       "      <td>extrastole</td>\n",
       "      <td>NaN</td>\n",
       "      <td>data\\pngfiles/extrastole__130_1306347376079_D.png</td>\n",
       "    </tr>\n",
       "    <tr>\n",
       "      <th>3</th>\n",
       "      <td>b</td>\n",
       "      <td>data\\wavfiles/extrastole__134_1306428161797_C1...</td>\n",
       "      <td>extrastole</td>\n",
       "      <td>NaN</td>\n",
       "      <td>data\\pngfiles/extrastole__134_1306428161797_C1...</td>\n",
       "    </tr>\n",
       "    <tr>\n",
       "      <th>4</th>\n",
       "      <td>b</td>\n",
       "      <td>data\\wavfiles/extrastole__138_1306762146980_B.wav</td>\n",
       "      <td>extrastole</td>\n",
       "      <td>NaN</td>\n",
       "      <td>data\\pngfiles/extrastole__138_1306762146980_B.png</td>\n",
       "    </tr>\n",
       "  </tbody>\n",
       "</table>\n",
       "</div>"
      ],
      "text/plain": [
       "  dataset                                              fname       label  \\\n",
       "0       b  data\\wavfiles/extrastole__127_1306764300147_C2...  extrastole   \n",
       "1       b  data\\wavfiles/extrastole__128_1306344005749_A.wav  extrastole   \n",
       "2       b  data\\wavfiles/extrastole__130_1306347376079_D.wav  extrastole   \n",
       "3       b  data\\wavfiles/extrastole__134_1306428161797_C1...  extrastole   \n",
       "4       b  data\\wavfiles/extrastole__138_1306762146980_B.wav  extrastole   \n",
       "\n",
       "  sublabel                                              iname  \n",
       "0      NaN  data\\pngfiles/extrastole__127_1306764300147_C2...  \n",
       "1      NaN  data\\pngfiles/extrastole__128_1306344005749_A.png  \n",
       "2      NaN  data\\pngfiles/extrastole__130_1306347376079_D.png  \n",
       "3      NaN  data\\pngfiles/extrastole__134_1306428161797_C1...  \n",
       "4      NaN  data\\pngfiles/extrastole__138_1306762146980_B.png  "
      ]
     },
     "execution_count": 5,
     "metadata": {},
     "output_type": "execute_result"
    }
   ],
   "source": [
    "df = hb.load_df('data/set_b.csv', 'data/wavfiles', 'data/pngfiles')\n",
    "df.head()"
   ]
  },
  {
   "cell_type": "code",
   "execution_count": 6,
   "metadata": {},
   "outputs": [],
   "source": [
    "df.to_csv(\"images_df.csv\")"
   ]
  },
  {
   "cell_type": "code",
   "execution_count": null,
   "metadata": {},
   "outputs": [],
   "source": []
  }
 ],
 "metadata": {
  "kernelspec": {
   "display_name": "Python 3",
   "language": "python",
   "name": "python3"
  },
  "language_info": {
   "codemirror_mode": {
    "name": "ipython",
    "version": 3
   },
   "file_extension": ".py",
   "mimetype": "text/x-python",
   "name": "python",
   "nbconvert_exporter": "python",
   "pygments_lexer": "ipython3",
   "version": "3.7.6"
  }
 },
 "nbformat": 4,
 "nbformat_minor": 2
}
